{
  "cells": [
    {
      "attachments": {},
      "cell_type": "markdown",
      "metadata": {
        "colab_type": "text",
        "id": "view-in-github"
      },
      "source": [
        "<a href=\"https://colab.research.google.com/github/mesushan/CNN-for-image-Classification/blob/master/cnn_for_image_classification.ipynb\" target=\"_parent\"><img src=\"https://colab.research.google.com/assets/colab-badge.svg\" alt=\"Open In Colab\"/></a>"
      ]
    },
    {
      "cell_type": "code",
      "execution_count": 2,
      "metadata": {
        "colab": {},
        "colab_type": "code",
        "id": "9S_E5AgNJkNA"
      },
      "outputs": [],
      "source": [
        "import tensorflow as tf"
      ]
    },
    {
      "cell_type": "code",
      "execution_count": 4,
      "metadata": {
        "colab": {},
        "colab_type": "code",
        "id": "bS6MNMEzKBxs"
      },
      "outputs": [],
      "source": [
        "# Initialising the CNN\n",
        "model = tf.keras.models.Sequential()"
      ]
    },
    {
      "cell_type": "code",
      "execution_count": 5,
      "metadata": {
        "colab": {},
        "colab_type": "code",
        "id": "q1p3ZYBEKnQD"
      },
      "outputs": [],
      "source": [
        "# 32 feature detectors with 3*3 dimensions so the convolution layer compose of 32 feature maps\n",
        "# 128 by 128 dimensions with colored image(3 channels)  (tensorflow backend)\n",
        "input_size = (128, 128)\n",
        "model.add(tf.keras.layers.Convolution2D(32, 3, 3, input_shape = (*input_size, 3), activation = 'relu'))"
      ]
    },
    {
      "cell_type": "code",
      "execution_count": 6,
      "metadata": {
        "colab": {},
        "colab_type": "code",
        "id": "qEiPkwwULNeC"
      },
      "outputs": [],
      "source": [
        "# reduce the size of feature maps and therefore reduce the number of nodes in the future fully connected layer (reduce time complexity, less compute intense without losing the performace). 2 by 2 deminsion is the recommended option\n",
        "model.add(tf.keras.layers.MaxPooling2D(pool_size = (2, 2)))"
      ]
    },
    {
      "cell_type": "code",
      "execution_count": 7,
      "metadata": {
        "colab": {},
        "colab_type": "code",
        "id": "yoh6opl-MPpA"
      },
      "outputs": [],
      "source": [
        "model.add(tf.keras.layers.Convolution2D(32, 3, 3, activation = 'relu'))\n",
        "model.add(tf.keras.layers.MaxPooling2D(pool_size = (2, 2)))"
      ]
    },
    {
      "cell_type": "code",
      "execution_count": 8,
      "metadata": {
        "colab": {},
        "colab_type": "code",
        "id": "ryYAi7KIMd6n"
      },
      "outputs": [],
      "source": [
        "# flatten all the feature maps in the pooling layer into single vector\n",
        "model.add(tf.keras.layers.Flatten())"
      ]
    },
    {
      "cell_type": "code",
      "execution_count": 9,
      "metadata": {
        "colab": {},
        "colab_type": "code",
        "id": "MIo_G3EeMlAo"
      },
      "outputs": [],
      "source": [
        "# making classic ann which compose of fully connected layers\n",
        "# number of nodes in hidden layer (output_dim) (common practice is to take the power of 2)\n",
        "model.add(tf.keras.layers.Dense(units = 64, activation = 'relu'))\n",
        "model.add(tf.keras.layers.Dropout(0.5))\n",
        "model.add(tf.keras.layers.Dense(units = 1, activation = 'sigmoid'))"
      ]
    },
    {
      "cell_type": "code",
      "execution_count": 10,
      "metadata": {
        "colab": {},
        "colab_type": "code",
        "id": "4jwlI36vMvJW"
      },
      "outputs": [],
      "source": [
        "# Compiling the CNN\n",
        "model.compile(optimizer = 'adam', loss = 'binary_crossentropy', metrics = ['accuracy'])"
      ]
    },
    {
      "cell_type": "code",
      "execution_count": 15,
      "metadata": {
        "colab": {
          "base_uri": "https://localhost:8080/",
          "height": 1000
        },
        "colab_type": "code",
        "id": "ggxWEo0-M1h3",
        "outputId": "ed4717df-e4b5-426f-a81d-d575554d0842"
      },
      "outputs": [
        {
          "name": "stdout",
          "output_type": "stream",
          "text": [
            "Found 80 images belonging to 2 classes.\n",
            "Found 20 images belonging to 2 classes.\n",
            "Epoch 1/100\n",
            "10/10 [==============================] - 0s 35ms/step - loss: 0.0353 - accuracy: 1.0000 - val_loss: 0.8142 - val_accuracy: 0.7000\n",
            "Epoch 2/100\n",
            "10/10 [==============================] - 0s 33ms/step - loss: 0.0457 - accuracy: 0.9800 - val_loss: 0.2821 - val_accuracy: 0.8000\n",
            "Epoch 3/100\n",
            "10/10 [==============================] - 0s 31ms/step - loss: 0.0303 - accuracy: 1.0000 - val_loss: 0.2735 - val_accuracy: 0.8000\n",
            "Epoch 4/100\n",
            "10/10 [==============================] - 0s 26ms/step - loss: 0.0807 - accuracy: 0.9800 - val_loss: 0.4041 - val_accuracy: 0.8000\n",
            "Epoch 5/100\n",
            "10/10 [==============================] - 0s 33ms/step - loss: 0.0193 - accuracy: 1.0000 - val_loss: 0.8667 - val_accuracy: 0.8000\n",
            "Epoch 6/100\n",
            "10/10 [==============================] - 0s 31ms/step - loss: 0.1763 - accuracy: 0.9400 - val_loss: 0.2545 - val_accuracy: 0.8000\n",
            "Epoch 7/100\n",
            "10/10 [==============================] - 0s 31ms/step - loss: 0.0342 - accuracy: 1.0000 - val_loss: 0.7095 - val_accuracy: 0.7000\n",
            "Epoch 8/100\n",
            "10/10 [==============================] - 0s 31ms/step - loss: 0.0775 - accuracy: 0.9800 - val_loss: 0.2910 - val_accuracy: 0.9000\n",
            "Epoch 9/100\n",
            "10/10 [==============================] - 0s 28ms/step - loss: 0.0268 - accuracy: 1.0000 - val_loss: 0.2982 - val_accuracy: 0.8000\n",
            "Epoch 10/100\n",
            "10/10 [==============================] - 0s 28ms/step - loss: 0.0169 - accuracy: 1.0000 - val_loss: 0.4781 - val_accuracy: 0.7000\n",
            "Epoch 11/100\n",
            "10/10 [==============================] - 0s 30ms/step - loss: 0.0196 - accuracy: 1.0000 - val_loss: 0.0831 - val_accuracy: 0.9000\n",
            "Epoch 12/100\n",
            "10/10 [==============================] - 0s 33ms/step - loss: 0.0893 - accuracy: 0.9600 - val_loss: 0.0150 - val_accuracy: 1.0000\n",
            "Epoch 13/100\n",
            "10/10 [==============================] - 0s 34ms/step - loss: 0.0741 - accuracy: 0.9800 - val_loss: 0.3189 - val_accuracy: 0.8000\n",
            "Epoch 14/100\n",
            "10/10 [==============================] - 0s 33ms/step - loss: 0.0215 - accuracy: 1.0000 - val_loss: 0.5354 - val_accuracy: 0.7000\n",
            "Epoch 15/100\n",
            "10/10 [==============================] - 0s 34ms/step - loss: 0.0422 - accuracy: 0.9800 - val_loss: 0.0908 - val_accuracy: 1.0000\n",
            "Epoch 16/100\n",
            "10/10 [==============================] - 0s 26ms/step - loss: 0.0174 - accuracy: 1.0000 - val_loss: 0.6628 - val_accuracy: 0.7000\n",
            "Epoch 17/100\n",
            "10/10 [==============================] - 0s 32ms/step - loss: 0.0098 - accuracy: 1.0000 - val_loss: 0.2437 - val_accuracy: 0.9000\n",
            "Epoch 18/100\n",
            "10/10 [==============================] - 0s 29ms/step - loss: 0.0274 - accuracy: 1.0000 - val_loss: 0.2279 - val_accuracy: 0.9000\n",
            "Epoch 19/100\n",
            "10/10 [==============================] - 0s 30ms/step - loss: 0.0303 - accuracy: 0.9800 - val_loss: 0.2794 - val_accuracy: 0.8000\n",
            "Epoch 20/100\n",
            "10/10 [==============================] - 0s 31ms/step - loss: 0.0220 - accuracy: 0.9800 - val_loss: 0.2689 - val_accuracy: 0.9000\n",
            "Epoch 21/100\n",
            "10/10 [==============================] - 0s 27ms/step - loss: 0.0329 - accuracy: 0.9800 - val_loss: 0.0712 - val_accuracy: 1.0000\n",
            "Epoch 22/100\n",
            "10/10 [==============================] - 0s 30ms/step - loss: 0.0332 - accuracy: 0.9800 - val_loss: 0.0128 - val_accuracy: 1.0000\n",
            "Epoch 23/100\n",
            "10/10 [==============================] - 0s 30ms/step - loss: 0.0202 - accuracy: 1.0000 - val_loss: 0.1215 - val_accuracy: 0.9000\n",
            "Epoch 24/100\n",
            "10/10 [==============================] - 0s 31ms/step - loss: 0.0183 - accuracy: 1.0000 - val_loss: 0.2860 - val_accuracy: 0.9000\n",
            "Epoch 25/100\n",
            "10/10 [==============================] - 0s 31ms/step - loss: 0.0099 - accuracy: 1.0000 - val_loss: 0.2642 - val_accuracy: 0.9000\n",
            "Epoch 26/100\n",
            "10/10 [==============================] - 0s 33ms/step - loss: 0.0144 - accuracy: 1.0000 - val_loss: 0.0589 - val_accuracy: 1.0000\n",
            "Epoch 27/100\n",
            "10/10 [==============================] - 0s 31ms/step - loss: 0.0071 - accuracy: 1.0000 - val_loss: 0.0534 - val_accuracy: 1.0000\n",
            "Epoch 28/100\n",
            "10/10 [==============================] - 0s 31ms/step - loss: 0.0055 - accuracy: 1.0000 - val_loss: 0.0448 - val_accuracy: 1.0000\n",
            "Epoch 29/100\n",
            "10/10 [==============================] - 0s 31ms/step - loss: 0.0067 - accuracy: 1.0000 - val_loss: 0.4757 - val_accuracy: 0.9000\n",
            "Epoch 30/100\n",
            "10/10 [==============================] - 0s 32ms/step - loss: 0.0280 - accuracy: 0.9800 - val_loss: 0.0322 - val_accuracy: 1.0000\n",
            "Epoch 31/100\n",
            "10/10 [==============================] - 0s 28ms/step - loss: 0.0320 - accuracy: 0.9800 - val_loss: 0.4150 - val_accuracy: 0.8000\n",
            "Epoch 32/100\n",
            "10/10 [==============================] - 0s 30ms/step - loss: 0.0364 - accuracy: 0.9800 - val_loss: 0.3496 - val_accuracy: 0.8000\n",
            "Epoch 33/100\n",
            "10/10 [==============================] - 0s 31ms/step - loss: 0.0059 - accuracy: 1.0000 - val_loss: 0.2888 - val_accuracy: 0.8000\n",
            "Epoch 34/100\n",
            "10/10 [==============================] - 0s 28ms/step - loss: 0.0254 - accuracy: 0.9800 - val_loss: 0.3746 - val_accuracy: 0.9000\n",
            "Epoch 35/100\n",
            "10/10 [==============================] - 0s 26ms/step - loss: 0.0199 - accuracy: 1.0000 - val_loss: 0.5180 - val_accuracy: 0.9000\n",
            "Epoch 36/100\n",
            "10/10 [==============================] - 0s 32ms/step - loss: 0.0040 - accuracy: 1.0000 - val_loss: 0.3156 - val_accuracy: 0.9000\n",
            "Epoch 37/100\n",
            "10/10 [==============================] - 0s 31ms/step - loss: 0.0263 - accuracy: 0.9800 - val_loss: 0.0713 - val_accuracy: 1.0000\n",
            "Epoch 38/100\n",
            "10/10 [==============================] - 0s 36ms/step - loss: 0.0052 - accuracy: 1.0000 - val_loss: 0.1665 - val_accuracy: 0.9000\n",
            "Epoch 39/100\n",
            "10/10 [==============================] - 0s 32ms/step - loss: 0.0118 - accuracy: 1.0000 - val_loss: 0.1639 - val_accuracy: 0.9000\n",
            "Epoch 40/100\n",
            "10/10 [==============================] - 0s 32ms/step - loss: 0.0052 - accuracy: 1.0000 - val_loss: 0.6288 - val_accuracy: 0.7000\n",
            "Epoch 41/100\n",
            "10/10 [==============================] - 0s 31ms/step - loss: 0.0166 - accuracy: 1.0000 - val_loss: 0.3364 - val_accuracy: 0.8000\n",
            "Epoch 42/100\n",
            "10/10 [==============================] - 0s 32ms/step - loss: 0.0117 - accuracy: 1.0000 - val_loss: 0.4573 - val_accuracy: 0.9000\n",
            "Epoch 43/100\n",
            "10/10 [==============================] - 0s 25ms/step - loss: 0.0167 - accuracy: 1.0000 - val_loss: 0.1949 - val_accuracy: 0.8000\n",
            "Epoch 44/100\n",
            "10/10 [==============================] - 0s 31ms/step - loss: 0.0424 - accuracy: 0.9800 - val_loss: 0.4625 - val_accuracy: 0.9000\n",
            "Epoch 45/100\n",
            "10/10 [==============================] - 0s 33ms/step - loss: 0.0495 - accuracy: 0.9800 - val_loss: 0.4285 - val_accuracy: 0.9000\n",
            "Epoch 46/100\n",
            "10/10 [==============================] - 0s 29ms/step - loss: 0.0249 - accuracy: 1.0000 - val_loss: 0.2290 - val_accuracy: 0.9000\n",
            "Epoch 47/100\n",
            "10/10 [==============================] - 0s 27ms/step - loss: 0.0190 - accuracy: 1.0000 - val_loss: 0.4188 - val_accuracy: 0.8000\n",
            "Epoch 48/100\n",
            "10/10 [==============================] - 0s 31ms/step - loss: 0.0051 - accuracy: 1.0000 - val_loss: 0.1045 - val_accuracy: 0.9000\n",
            "Epoch 49/100\n",
            "10/10 [==============================] - 0s 27ms/step - loss: 0.0141 - accuracy: 1.0000 - val_loss: 0.3213 - val_accuracy: 0.9000\n",
            "Epoch 50/100\n",
            "10/10 [==============================] - 0s 27ms/step - loss: 0.0481 - accuracy: 0.9800 - val_loss: 0.3924 - val_accuracy: 0.9000\n",
            "Epoch 51/100\n",
            "10/10 [==============================] - 0s 31ms/step - loss: 0.0143 - accuracy: 1.0000 - val_loss: 0.0556 - val_accuracy: 1.0000\n",
            "Epoch 52/100\n",
            "10/10 [==============================] - 0s 31ms/step - loss: 0.0301 - accuracy: 0.9800 - val_loss: 0.2484 - val_accuracy: 0.9000\n",
            "Epoch 53/100\n",
            "10/10 [==============================] - 0s 31ms/step - loss: 0.0486 - accuracy: 0.9800 - val_loss: 0.2439 - val_accuracy: 0.9000\n",
            "Epoch 54/100\n",
            "10/10 [==============================] - 0s 26ms/step - loss: 0.0124 - accuracy: 1.0000 - val_loss: 0.3189 - val_accuracy: 0.9000\n",
            "Epoch 55/100\n",
            "10/10 [==============================] - 0s 31ms/step - loss: 0.0222 - accuracy: 1.0000 - val_loss: 0.2703 - val_accuracy: 0.8000\n",
            "Epoch 56/100\n",
            "10/10 [==============================] - 0s 27ms/step - loss: 0.0043 - accuracy: 1.0000 - val_loss: 0.2684 - val_accuracy: 0.9000\n",
            "Epoch 57/100\n",
            "10/10 [==============================] - 0s 30ms/step - loss: 0.0113 - accuracy: 1.0000 - val_loss: 0.4840 - val_accuracy: 0.8000\n",
            "Epoch 58/100\n",
            "10/10 [==============================] - 0s 27ms/step - loss: 0.0397 - accuracy: 0.9800 - val_loss: 0.0501 - val_accuracy: 1.0000\n",
            "Epoch 59/100\n",
            "10/10 [==============================] - 0s 31ms/step - loss: 0.1075 - accuracy: 0.9600 - val_loss: 1.2089 - val_accuracy: 0.7000\n",
            "Epoch 60/100\n",
            "10/10 [==============================] - 0s 27ms/step - loss: 0.0118 - accuracy: 1.0000 - val_loss: 0.2473 - val_accuracy: 0.9000\n",
            "Epoch 61/100\n",
            "10/10 [==============================] - 0s 33ms/step - loss: 0.0995 - accuracy: 0.9600 - val_loss: 1.2648 - val_accuracy: 0.8000\n",
            "Epoch 62/100\n",
            "10/10 [==============================] - 0s 26ms/step - loss: 0.0526 - accuracy: 0.9800 - val_loss: 0.6948 - val_accuracy: 0.8000\n",
            "Epoch 63/100\n",
            "10/10 [==============================] - 0s 33ms/step - loss: 0.0461 - accuracy: 0.9800 - val_loss: 1.0953 - val_accuracy: 0.8000\n",
            "Epoch 64/100\n",
            "10/10 [==============================] - 0s 28ms/step - loss: 0.0999 - accuracy: 0.9400 - val_loss: 0.4220 - val_accuracy: 0.7000\n",
            "Epoch 65/100\n",
            "10/10 [==============================] - 0s 27ms/step - loss: 0.0660 - accuracy: 0.9800 - val_loss: 0.5699 - val_accuracy: 0.8000\n",
            "Epoch 66/100\n",
            "10/10 [==============================] - 0s 30ms/step - loss: 0.0548 - accuracy: 0.9800 - val_loss: 0.8423 - val_accuracy: 0.7000\n",
            "Epoch 67/100\n",
            "10/10 [==============================] - 0s 31ms/step - loss: 0.0377 - accuracy: 1.0000 - val_loss: 0.8604 - val_accuracy: 0.8000\n",
            "Epoch 68/100\n",
            "10/10 [==============================] - 0s 27ms/step - loss: 0.0528 - accuracy: 0.9800 - val_loss: 0.3945 - val_accuracy: 0.9000\n",
            "Epoch 69/100\n",
            "10/10 [==============================] - 0s 32ms/step - loss: 0.0604 - accuracy: 0.9800 - val_loss: 0.3688 - val_accuracy: 0.8000\n",
            "Epoch 70/100\n",
            "10/10 [==============================] - 0s 28ms/step - loss: 0.0411 - accuracy: 0.9800 - val_loss: 0.0430 - val_accuracy: 1.0000\n",
            "Epoch 71/100\n",
            "10/10 [==============================] - 0s 29ms/step - loss: 0.0157 - accuracy: 1.0000 - val_loss: 0.3645 - val_accuracy: 0.8000\n",
            "Epoch 72/100\n",
            "10/10 [==============================] - 0s 26ms/step - loss: 0.0085 - accuracy: 1.0000 - val_loss: 0.2273 - val_accuracy: 0.8000\n",
            "Epoch 73/100\n",
            "10/10 [==============================] - 0s 30ms/step - loss: 0.0101 - accuracy: 1.0000 - val_loss: 0.7604 - val_accuracy: 0.8000\n",
            "Epoch 74/100\n",
            "10/10 [==============================] - 0s 32ms/step - loss: 0.0129 - accuracy: 1.0000 - val_loss: 0.1266 - val_accuracy: 0.9000\n",
            "Epoch 75/100\n",
            "10/10 [==============================] - 0s 31ms/step - loss: 0.0188 - accuracy: 1.0000 - val_loss: 0.2053 - val_accuracy: 0.9000\n",
            "Epoch 76/100\n",
            "10/10 [==============================] - 0s 31ms/step - loss: 0.0080 - accuracy: 1.0000 - val_loss: 0.1314 - val_accuracy: 0.9000\n",
            "Epoch 77/100\n",
            "10/10 [==============================] - 0s 29ms/step - loss: 0.0102 - accuracy: 1.0000 - val_loss: 0.2364 - val_accuracy: 0.8000\n",
            "Epoch 78/100\n",
            "10/10 [==============================] - 0s 32ms/step - loss: 0.0202 - accuracy: 1.0000 - val_loss: 0.1307 - val_accuracy: 0.9000\n",
            "Epoch 79/100\n",
            "10/10 [==============================] - 0s 30ms/step - loss: 0.0607 - accuracy: 0.9600 - val_loss: 0.2675 - val_accuracy: 0.9000\n",
            "Epoch 80/100\n",
            "10/10 [==============================] - 0s 27ms/step - loss: 0.0437 - accuracy: 0.9800 - val_loss: 0.3487 - val_accuracy: 0.9000\n",
            "Epoch 81/100\n",
            "10/10 [==============================] - 0s 27ms/step - loss: 0.0166 - accuracy: 1.0000 - val_loss: 0.6990 - val_accuracy: 0.8000\n",
            "Epoch 82/100\n",
            "10/10 [==============================] - 0s 27ms/step - loss: 0.0392 - accuracy: 1.0000 - val_loss: 0.5172 - val_accuracy: 0.8000\n",
            "Epoch 83/100\n",
            "10/10 [==============================] - 0s 26ms/step - loss: 0.0193 - accuracy: 1.0000 - val_loss: 0.2704 - val_accuracy: 0.9000\n",
            "Epoch 84/100\n",
            "10/10 [==============================] - 0s 30ms/step - loss: 0.0672 - accuracy: 0.9600 - val_loss: 0.2482 - val_accuracy: 0.9000\n",
            "Epoch 85/100\n",
            "10/10 [==============================] - 0s 28ms/step - loss: 0.2204 - accuracy: 0.8800 - val_loss: 0.1936 - val_accuracy: 0.9000\n",
            "Epoch 86/100\n",
            "10/10 [==============================] - 0s 28ms/step - loss: 0.0105 - accuracy: 1.0000 - val_loss: 0.2630 - val_accuracy: 0.9000\n",
            "Epoch 87/100\n",
            "10/10 [==============================] - 0s 30ms/step - loss: 0.0747 - accuracy: 0.9800 - val_loss: 0.3362 - val_accuracy: 0.8000\n",
            "Epoch 88/100\n",
            "10/10 [==============================] - 0s 32ms/step - loss: 0.0583 - accuracy: 0.9800 - val_loss: 0.2566 - val_accuracy: 0.9000\n",
            "Epoch 89/100\n",
            "10/10 [==============================] - 0s 32ms/step - loss: 0.0037 - accuracy: 1.0000 - val_loss: 0.0571 - val_accuracy: 1.0000\n",
            "Epoch 90/100\n",
            "10/10 [==============================] - 0s 31ms/step - loss: 0.0909 - accuracy: 0.9800 - val_loss: 0.0729 - val_accuracy: 1.0000\n",
            "Epoch 91/100\n",
            "10/10 [==============================] - 0s 27ms/step - loss: 0.0730 - accuracy: 0.9600 - val_loss: 1.0767 - val_accuracy: 0.7000\n",
            "Epoch 92/100\n",
            "10/10 [==============================] - 0s 31ms/step - loss: 0.0192 - accuracy: 1.0000 - val_loss: 0.2202 - val_accuracy: 0.9000\n",
            "Epoch 93/100\n",
            "10/10 [==============================] - 0s 31ms/step - loss: 0.0070 - accuracy: 1.0000 - val_loss: 0.3473 - val_accuracy: 0.8000\n",
            "Epoch 94/100\n",
            "10/10 [==============================] - 0s 28ms/step - loss: 0.0127 - accuracy: 1.0000 - val_loss: 0.1742 - val_accuracy: 0.9000\n",
            "Epoch 95/100\n",
            "10/10 [==============================] - 0s 32ms/step - loss: 0.0119 - accuracy: 1.0000 - val_loss: 0.0871 - val_accuracy: 1.0000\n",
            "Epoch 96/100\n",
            "10/10 [==============================] - 0s 29ms/step - loss: 0.0133 - accuracy: 1.0000 - val_loss: 0.1596 - val_accuracy: 0.9000\n",
            "Epoch 97/100\n",
            "10/10 [==============================] - 0s 32ms/step - loss: 0.0229 - accuracy: 1.0000 - val_loss: 0.1781 - val_accuracy: 0.9000\n",
            "Epoch 98/100\n",
            "10/10 [==============================] - 0s 27ms/step - loss: 0.0389 - accuracy: 0.9800 - val_loss: 0.1459 - val_accuracy: 0.9000\n",
            "Epoch 99/100\n",
            "10/10 [==============================] - 0s 31ms/step - loss: 0.0482 - accuracy: 0.9600 - val_loss: 0.2578 - val_accuracy: 0.9000\n",
            "Epoch 100/100\n",
            "10/10 [==============================] - 0s 31ms/step - loss: 0.0350 - accuracy: 0.9800 - val_loss: 0.3550 - val_accuracy: 0.8000\n"
          ]
        },
        {
          "data": {
            "text/plain": [
              "<keras.callbacks.History at 0x1274eb0e250>"
            ]
          },
          "execution_count": 15,
          "metadata": {},
          "output_type": "execute_result"
        }
      ],
      "source": [
        "# image augmentation technique to enrich our dataset(training set) without adding more images so get good performance  results with little or no overfitting even with the small amount of images\n",
        "# used from keras documentation (flow_from_directory method)\n",
        "\n",
        "from keras.preprocessing.image import ImageDataGenerator\n",
        "batch_size = 5\n",
        "# image augmentation part\n",
        "train_datagen = ImageDataGenerator(rescale = 1./255,\n",
        "                                   shear_range = 0.2,\n",
        "                                   zoom_range = 0.2,\n",
        "                                   horizontal_flip = True)\n",
        "\n",
        "test_datagen = ImageDataGenerator(rescale = 1./255)\n",
        "\n",
        "# create training set\n",
        "# wanna get higher accuracy -> inccrease target_size\n",
        "training_set = train_datagen.flow_from_directory('C:\\\\Users\\VA\\Documents\\workspace\\cnn_100k_10k\\dataset\\Train',\n",
        "                                                 target_size = input_size,\n",
        "                                                 batch_size = batch_size,\n",
        "                                                 class_mode = 'binary')\n",
        "\n",
        "# create test set\n",
        "# wanna get higher accuracy -> inccrease target_size\n",
        "test_set = test_datagen.flow_from_directory('C:\\\\Users\\VA\\Documents\\workspace\\cnn_100k_10k\\dataset\\Test',\n",
        "                                            target_size = input_size,\n",
        "                                            batch_size = batch_size,\n",
        "                                            class_mode = 'binary')\n",
        "\n",
        "# fit the cnn model to the trainig set and testing it on the test set\n",
        "model.fit(training_set,\n",
        "          steps_per_epoch = 50/batch_size,\n",
        "          epochs = 100,\n",
        "          validation_data = test_set,\n",
        "          validation_steps = 10/batch_size)"
      ]
    },
    {
      "cell_type": "code",
      "execution_count": 16,
      "metadata": {
        "colab": {},
        "colab_type": "code",
        "id": "zkpQ9_Bbdgug"
      },
      "outputs": [],
      "source": [
        "import numpy as np\n",
        "import keras.utils as image"
      ]
    },
    {
      "cell_type": "code",
      "execution_count": 17,
      "metadata": {
        "colab": {},
        "colab_type": "code",
        "id": "OARxcBiKqhaP"
      },
      "outputs": [
        {
          "name": "stdout",
          "output_type": "stream",
          "text": [
            "1/1 [==============================] - 0s 77ms/step\n"
          ]
        }
      ],
      "source": [
        "test_image = image.load_img('C:\\\\Users\\VA\\Documents\\workspace\\cnn_100k_10k\\dataset\\Predict\\pred_3.jpeg', target_size= input_size)\n",
        "test_image = image.img_to_array(test_image)\n",
        "test_image = np.expand_dims(test_image, axis = 0)\n",
        "result = model.predict(test_image)"
      ]
    },
    {
      "cell_type": "code",
      "execution_count": 18,
      "metadata": {
        "colab": {
          "base_uri": "https://localhost:8080/",
          "height": 35
        },
        "colab_type": "code",
        "id": "yephYECUq3BH",
        "outputId": "aa6219cf-0719-4857-c100-becf44791bec"
      },
      "outputs": [
        {
          "data": {
            "text/plain": [
              "{'sepuluh': 0, 'seratus': 1}"
            ]
          },
          "execution_count": 18,
          "metadata": {},
          "output_type": "execute_result"
        }
      ],
      "source": [
        "training_set.class_indices"
      ]
    },
    {
      "cell_type": "code",
      "execution_count": 19,
      "metadata": {},
      "outputs": [
        {
          "data": {
            "text/plain": [
              "0.0"
            ]
          },
          "execution_count": 19,
          "metadata": {},
          "output_type": "execute_result"
        }
      ],
      "source": [
        "result[0][0]"
      ]
    },
    {
      "cell_type": "code",
      "execution_count": 20,
      "metadata": {
        "colab": {},
        "colab_type": "code",
        "id": "KwfR3qnDr2D2"
      },
      "outputs": [],
      "source": [
        "if result [0][0] == 1:\n",
        "  prediction = 'seratus'\n",
        "else:\n",
        "  prediction = 'sepuluh'"
      ]
    },
    {
      "cell_type": "code",
      "execution_count": 21,
      "metadata": {
        "colab": {
          "base_uri": "https://localhost:8080/",
          "height": 35
        },
        "colab_type": "code",
        "id": "T-LuaKWdsKIn",
        "outputId": "a91c3848-85c5-4f31-b968-5ec070d6d1fa"
      },
      "outputs": [
        {
          "data": {
            "text/plain": [
              "'sepuluh'"
            ]
          },
          "execution_count": 21,
          "metadata": {},
          "output_type": "execute_result"
        }
      ],
      "source": [
        "prediction"
      ]
    },
    {
      "attachments": {},
      "cell_type": "markdown",
      "metadata": {},
      "source": [
        "Accuracy : 0.98"
      ]
    }
  ],
  "metadata": {
    "accelerator": "GPU",
    "colab": {
      "authorship_tag": "ABX9TyMH4CbnVnrPqPPnZWyDXl/2",
      "collapsed_sections": [],
      "include_colab_link": true,
      "name": "cnn_for_image_classification.ipynb",
      "provenance": []
    },
    "kernelspec": {
      "display_name": "Python 3",
      "name": "python3"
    },
    "language_info": {
      "codemirror_mode": {
        "name": "ipython",
        "version": 3
      },
      "file_extension": ".py",
      "mimetype": "text/x-python",
      "name": "python",
      "nbconvert_exporter": "python",
      "pygments_lexer": "ipython3",
      "version": "3.11.3"
    }
  },
  "nbformat": 4,
  "nbformat_minor": 0
}
