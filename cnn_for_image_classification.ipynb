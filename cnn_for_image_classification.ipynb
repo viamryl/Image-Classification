{
  "cells": [
    {
      "attachments": {},
      "cell_type": "markdown",
      "metadata": {
        "colab_type": "text",
        "id": "view-in-github"
      },
      "source": [
        "<a href=\"https://colab.research.google.com/github/mesushan/CNN-for-image-Classification/blob/master/cnn_for_image_classification.ipynb\" target=\"_parent\"><img src=\"https://colab.research.google.com/assets/colab-badge.svg\" alt=\"Open In Colab\"/></a>"
      ]
    },
    {
      "attachments": {},
      "cell_type": "markdown",
      "metadata": {
        "colab_type": "text",
        "id": "_NcIIc_P1xro"
      },
      "source": [
        "## STEP 1: SELECT RIGHT VERSION OF TENSORFLOW "
      ]
    },
    {
      "cell_type": "code",
      "execution_count": 1,
      "metadata": {
        "colab": {
          "base_uri": "https://localhost:8080/",
          "height": 35
        },
        "colab_type": "code",
        "id": "EE2zTcHEJUGW",
        "outputId": "131f7e73-749e-4ef2-a008-6ace19c2e821"
      },
      "outputs": [
        {
          "name": "stderr",
          "output_type": "stream",
          "text": [
            "UsageError: Line magic function `%tensorflow_version` not found.\n"
          ]
        }
      ],
      "source": [
        "# %tensorflow_version 2.x"
      ]
    },
    {
      "attachments": {},
      "cell_type": "markdown",
      "metadata": {
        "colab_type": "text",
        "id": "78RhkOKM3Ld8"
      },
      "source": [
        "## STEP 2: CLONE GITHUB PROJECT (FOR EASY ACCESS TO DATASET)"
      ]
    },
    {
      "cell_type": "code",
      "execution_count": null,
      "metadata": {
        "colab": {
          "base_uri": "https://localhost:8080/",
          "height": 35
        },
        "colab_type": "code",
        "id": "9QCWniNOVt-5",
        "outputId": "4262e2f6-6f4b-448b-d541-c5199b7c3c48"
      },
      "outputs": [],
      "source": [
        "# !git clone https://github.com/mesushan/CNN-for-image-Classification.git"
      ]
    },
    {
      "cell_type": "code",
      "execution_count": 14,
      "metadata": {
        "colab": {
          "base_uri": "https://localhost:8080/",
          "height": 35
        },
        "colab_type": "code",
        "id": "Un6b6Tdxeccs",
        "outputId": "7dbcb1f9-ce3f-4774-89a7-9e1618eb748a"
      },
      "outputs": [
        {
          "name": "stderr",
          "output_type": "stream",
          "text": [
            "'ls' is not recognized as an internal or external command,\n",
            "operable program or batch file.\n"
          ]
        }
      ],
      "source": [
        "# ! ls"
      ]
    },
    {
      "cell_type": "code",
      "execution_count": 31,
      "metadata": {
        "colab": {},
        "colab_type": "code",
        "id": "9S_E5AgNJkNA"
      },
      "outputs": [],
      "source": [
        "import tensorflow as tf"
      ]
    },
    {
      "cell_type": "code",
      "execution_count": 32,
      "metadata": {
        "colab": {},
        "colab_type": "code",
        "id": "bS6MNMEzKBxs"
      },
      "outputs": [],
      "source": [
        "# Initialising the CNN\n",
        "model = tf.keras.models.Sequential()"
      ]
    },
    {
      "attachments": {},
      "cell_type": "markdown",
      "metadata": {
        "colab_type": "text",
        "id": "8RWO-fud3jLD"
      },
      "source": [
        "## Step 3: ADDING CONVOLUTION LAYER"
      ]
    },
    {
      "cell_type": "code",
      "execution_count": 34,
      "metadata": {
        "colab": {},
        "colab_type": "code",
        "id": "q1p3ZYBEKnQD"
      },
      "outputs": [],
      "source": [
        "# 32 feature detectors with 3*3 dimensions so the convolution layer compose of 32 feature maps\n",
        "# 128 by 128 dimensions with colored image(3 channels)  (tensorflow backend)\n",
        "input_size = (200, 200)\n",
        "model.add(tf.keras.layers.Convolution2D(32, 3, 3, input_shape = (*input_size, 3), activation = 'relu'))"
      ]
    },
    {
      "attachments": {},
      "cell_type": "markdown",
      "metadata": {
        "colab_type": "text",
        "id": "8GGnBAso3zyT"
      },
      "source": [
        "## STEP 4: ADDING POOLING LAYER\n"
      ]
    },
    {
      "cell_type": "code",
      "execution_count": 35,
      "metadata": {
        "colab": {},
        "colab_type": "code",
        "id": "qEiPkwwULNeC"
      },
      "outputs": [],
      "source": [
        "# reduce the size of feature maps and therefore reduce the number of nodes in the future fully connected layer (reduce time complexity, less compute intense without losing the performace). 2 by 2 deminsion is the recommended option\n",
        "model.add(tf.keras.layers.MaxPooling2D(pool_size = (2, 2)))"
      ]
    },
    {
      "attachments": {},
      "cell_type": "markdown",
      "metadata": {
        "colab_type": "text",
        "id": "X9HXpcCV4xFU"
      },
      "source": [
        "## STEP 5: ADDING SECOND CONVOLUTION LAYER WITH POOLIING"
      ]
    },
    {
      "cell_type": "code",
      "execution_count": 36,
      "metadata": {
        "colab": {},
        "colab_type": "code",
        "id": "yoh6opl-MPpA"
      },
      "outputs": [],
      "source": [
        "model.add(tf.keras.layers.Convolution2D(32, 3, 3, activation = 'relu'))\n",
        "model.add(tf.keras.layers.MaxPooling2D(pool_size = (2, 2)))\n"
      ]
    },
    {
      "attachments": {},
      "cell_type": "markdown",
      "metadata": {
        "colab_type": "text",
        "id": "Lvp8NS-85iWn"
      },
      "source": [
        "## STEP 6: ADDING FLATTENING LAYER"
      ]
    },
    {
      "cell_type": "code",
      "execution_count": 37,
      "metadata": {
        "colab": {},
        "colab_type": "code",
        "id": "ryYAi7KIMd6n"
      },
      "outputs": [],
      "source": [
        "# flatten all the feature maps in the pooling layer into single vector\n",
        "model.add(tf.keras.layers.Flatten())"
      ]
    },
    {
      "attachments": {},
      "cell_type": "markdown",
      "metadata": {
        "colab_type": "text",
        "id": "XE8mbDLq54_p"
      },
      "source": [
        "## STEP 7: ADDING A FULLY CONNECTED LAYER"
      ]
    },
    {
      "cell_type": "code",
      "execution_count": 38,
      "metadata": {
        "colab": {},
        "colab_type": "code",
        "id": "MIo_G3EeMlAo"
      },
      "outputs": [],
      "source": [
        "# making classic ann which compose of fully connected layers\n",
        "# number of nodes in hidden layer (output_dim) (common practice is to take the power of 2)\n",
        "model.add(tf.keras.layers.Dense(units = 64, activation = 'relu'))\n",
        "model.add(tf.keras.layers.Dropout(0.5))\n",
        "model.add(tf.keras.layers.Dense(units = 1, activation = 'sigmoid'))"
      ]
    },
    {
      "attachments": {},
      "cell_type": "markdown",
      "metadata": {
        "colab_type": "text",
        "id": "Sbrjo20M6CXH"
      },
      "source": [
        "## STEP 8: COMPILING THE MODEL"
      ]
    },
    {
      "cell_type": "code",
      "execution_count": 39,
      "metadata": {
        "colab": {},
        "colab_type": "code",
        "id": "4jwlI36vMvJW"
      },
      "outputs": [],
      "source": [
        "# Compiling the CNN\n",
        "model.compile(optimizer = 'adam', loss = 'binary_crossentropy', metrics = ['accuracy'])"
      ]
    },
    {
      "attachments": {},
      "cell_type": "markdown",
      "metadata": {
        "colab_type": "text",
        "id": "7CWYiHqn6SiJ"
      },
      "source": [
        "## STEP 9: FITTING THE CNN TO THE IMAGES"
      ]
    },
    {
      "cell_type": "code",
      "execution_count": 41,
      "metadata": {
        "colab": {
          "base_uri": "https://localhost:8080/",
          "height": 1000
        },
        "colab_type": "code",
        "id": "ggxWEo0-M1h3",
        "outputId": "ed4717df-e4b5-426f-a81d-d575554d0842"
      },
      "outputs": [
        {
          "name": "stdout",
          "output_type": "stream",
          "text": [
            "Found 80 images belonging to 2 classes.\n",
            "Found 20 images belonging to 2 classes.\n",
            "Epoch 1/100\n",
            "10/10 [==============================] - 1s 80ms/step - loss: 0.6922 - accuracy: 0.4800 - val_loss: 0.6925 - val_accuracy: 0.6000\n",
            "Epoch 2/100\n",
            "10/10 [==============================] - 1s 67ms/step - loss: 0.6858 - accuracy: 0.5200 - val_loss: 0.6904 - val_accuracy: 0.4000\n",
            "Epoch 3/100\n",
            "10/10 [==============================] - 1s 71ms/step - loss: 0.6846 - accuracy: 0.5600 - val_loss: 0.6810 - val_accuracy: 0.5000\n",
            "Epoch 4/100\n",
            "10/10 [==============================] - 1s 71ms/step - loss: 0.6705 - accuracy: 0.5400 - val_loss: 0.6555 - val_accuracy: 0.5000\n",
            "Epoch 5/100\n",
            "10/10 [==============================] - 1s 66ms/step - loss: 0.7158 - accuracy: 0.5800 - val_loss: 0.7029 - val_accuracy: 0.4000\n",
            "Epoch 6/100\n",
            "10/10 [==============================] - 1s 61ms/step - loss: 0.6975 - accuracy: 0.6200 - val_loss: 0.7155 - val_accuracy: 0.3000\n",
            "Epoch 7/100\n",
            "10/10 [==============================] - 1s 72ms/step - loss: 0.6882 - accuracy: 0.5000 - val_loss: 0.6935 - val_accuracy: 0.5000\n",
            "Epoch 8/100\n",
            "10/10 [==============================] - 1s 64ms/step - loss: 0.6630 - accuracy: 0.6800 - val_loss: 0.6706 - val_accuracy: 0.5000\n",
            "Epoch 9/100\n",
            "10/10 [==============================] - 1s 65ms/step - loss: 0.6534 - accuracy: 0.6600 - val_loss: 0.6672 - val_accuracy: 0.6000\n",
            "Epoch 10/100\n",
            "10/10 [==============================] - 1s 68ms/step - loss: 0.7225 - accuracy: 0.5400 - val_loss: 0.6786 - val_accuracy: 0.5000\n",
            "Epoch 11/100\n",
            "10/10 [==============================] - 1s 61ms/step - loss: 0.6394 - accuracy: 0.6000 - val_loss: 0.7341 - val_accuracy: 0.4000\n",
            "Epoch 12/100\n",
            "10/10 [==============================] - 1s 71ms/step - loss: 0.6874 - accuracy: 0.5200 - val_loss: 0.6897 - val_accuracy: 0.5000\n",
            "Epoch 13/100\n",
            "10/10 [==============================] - 1s 66ms/step - loss: 0.6686 - accuracy: 0.5800 - val_loss: 0.6440 - val_accuracy: 0.7000\n",
            "Epoch 14/100\n",
            "10/10 [==============================] - 1s 64ms/step - loss: 0.6458 - accuracy: 0.7000 - val_loss: 0.6071 - val_accuracy: 0.7000\n",
            "Epoch 15/100\n",
            "10/10 [==============================] - 1s 66ms/step - loss: 0.6035 - accuracy: 0.7200 - val_loss: 0.5919 - val_accuracy: 0.7000\n",
            "Epoch 16/100\n",
            "10/10 [==============================] - 1s 63ms/step - loss: 0.6434 - accuracy: 0.6400 - val_loss: 0.6941 - val_accuracy: 0.6000\n",
            "Epoch 17/100\n",
            "10/10 [==============================] - 1s 64ms/step - loss: 0.5550 - accuracy: 0.8200 - val_loss: 0.5333 - val_accuracy: 0.8000\n",
            "Epoch 18/100\n",
            "10/10 [==============================] - 1s 65ms/step - loss: 0.5414 - accuracy: 0.8400 - val_loss: 0.5099 - val_accuracy: 0.8000\n",
            "Epoch 19/100\n",
            "10/10 [==============================] - 1s 64ms/step - loss: 0.5673 - accuracy: 0.7000 - val_loss: 0.5550 - val_accuracy: 0.7000\n",
            "Epoch 20/100\n",
            "10/10 [==============================] - 1s 68ms/step - loss: 0.5156 - accuracy: 0.7800 - val_loss: 0.5083 - val_accuracy: 0.9000\n",
            "Epoch 21/100\n",
            "10/10 [==============================] - 1s 64ms/step - loss: 0.4963 - accuracy: 0.7600 - val_loss: 0.4188 - val_accuracy: 0.8000\n",
            "Epoch 22/100\n",
            "10/10 [==============================] - 1s 64ms/step - loss: 0.5191 - accuracy: 0.7400 - val_loss: 0.7009 - val_accuracy: 0.6000\n",
            "Epoch 23/100\n",
            "10/10 [==============================] - 1s 62ms/step - loss: 0.4264 - accuracy: 0.8000 - val_loss: 0.4672 - val_accuracy: 0.7000\n",
            "Epoch 24/100\n",
            "10/10 [==============================] - 1s 64ms/step - loss: 0.4636 - accuracy: 0.8000 - val_loss: 0.3851 - val_accuracy: 0.8000\n",
            "Epoch 25/100\n",
            "10/10 [==============================] - 1s 71ms/step - loss: 0.3556 - accuracy: 0.8400 - val_loss: 0.3524 - val_accuracy: 0.9000\n",
            "Epoch 26/100\n",
            "10/10 [==============================] - 1s 69ms/step - loss: 0.3130 - accuracy: 0.9200 - val_loss: 0.5072 - val_accuracy: 0.7000\n",
            "Epoch 27/100\n",
            "10/10 [==============================] - 1s 66ms/step - loss: 0.4133 - accuracy: 0.7800 - val_loss: 0.7755 - val_accuracy: 0.6000\n",
            "Epoch 28/100\n",
            "10/10 [==============================] - 1s 61ms/step - loss: 0.4119 - accuracy: 0.8600 - val_loss: 0.5160 - val_accuracy: 0.6000\n",
            "Epoch 29/100\n",
            "10/10 [==============================] - 1s 70ms/step - loss: 0.3886 - accuracy: 0.8600 - val_loss: 0.6709 - val_accuracy: 0.6000\n",
            "Epoch 30/100\n",
            "10/10 [==============================] - 1s 64ms/step - loss: 0.4059 - accuracy: 0.8000 - val_loss: 0.4715 - val_accuracy: 0.8000\n",
            "Epoch 31/100\n",
            "10/10 [==============================] - 1s 65ms/step - loss: 0.4271 - accuracy: 0.8000 - val_loss: 0.5847 - val_accuracy: 0.5000\n",
            "Epoch 32/100\n",
            "10/10 [==============================] - 1s 67ms/step - loss: 0.3699 - accuracy: 0.8800 - val_loss: 0.5269 - val_accuracy: 0.6000\n",
            "Epoch 33/100\n",
            "10/10 [==============================] - 1s 66ms/step - loss: 0.3470 - accuracy: 0.9000 - val_loss: 0.5803 - val_accuracy: 0.7000\n",
            "Epoch 34/100\n",
            "10/10 [==============================] - 1s 70ms/step - loss: 0.2841 - accuracy: 0.9000 - val_loss: 0.9515 - val_accuracy: 0.6000\n",
            "Epoch 35/100\n",
            "10/10 [==============================] - 1s 63ms/step - loss: 0.3585 - accuracy: 0.8200 - val_loss: 0.4894 - val_accuracy: 0.7000\n",
            "Epoch 36/100\n",
            "10/10 [==============================] - 1s 67ms/step - loss: 0.3051 - accuracy: 0.8600 - val_loss: 0.3840 - val_accuracy: 0.8000\n",
            "Epoch 37/100\n",
            "10/10 [==============================] - 1s 68ms/step - loss: 0.3023 - accuracy: 0.9000 - val_loss: 0.7630 - val_accuracy: 0.5000\n",
            "Epoch 38/100\n",
            "10/10 [==============================] - 1s 61ms/step - loss: 0.2436 - accuracy: 0.9200 - val_loss: 0.3015 - val_accuracy: 0.8000\n",
            "Epoch 39/100\n",
            "10/10 [==============================] - 1s 68ms/step - loss: 0.2851 - accuracy: 0.8800 - val_loss: 0.2307 - val_accuracy: 0.9000\n",
            "Epoch 40/100\n",
            "10/10 [==============================] - 1s 69ms/step - loss: 0.2745 - accuracy: 0.8800 - val_loss: 0.2544 - val_accuracy: 1.0000\n",
            "Epoch 41/100\n",
            "10/10 [==============================] - 1s 64ms/step - loss: 0.2731 - accuracy: 0.9000 - val_loss: 0.2677 - val_accuracy: 0.8000\n",
            "Epoch 42/100\n",
            "10/10 [==============================] - 1s 65ms/step - loss: 0.1997 - accuracy: 0.9200 - val_loss: 0.2275 - val_accuracy: 1.0000\n",
            "Epoch 43/100\n",
            "10/10 [==============================] - 1s 68ms/step - loss: 0.1409 - accuracy: 0.9400 - val_loss: 0.2988 - val_accuracy: 0.9000\n",
            "Epoch 44/100\n",
            "10/10 [==============================] - 1s 62ms/step - loss: 0.2557 - accuracy: 0.8800 - val_loss: 0.3209 - val_accuracy: 0.8000\n",
            "Epoch 45/100\n",
            "10/10 [==============================] - 1s 67ms/step - loss: 0.1600 - accuracy: 0.9200 - val_loss: 0.4321 - val_accuracy: 0.8000\n",
            "Epoch 46/100\n",
            "10/10 [==============================] - 1s 64ms/step - loss: 0.2490 - accuracy: 0.9200 - val_loss: 0.2700 - val_accuracy: 0.9000\n",
            "Epoch 47/100\n",
            "10/10 [==============================] - 1s 66ms/step - loss: 0.2595 - accuracy: 0.8400 - val_loss: 0.2986 - val_accuracy: 0.8000\n",
            "Epoch 48/100\n",
            "10/10 [==============================] - 1s 63ms/step - loss: 0.1522 - accuracy: 0.9600 - val_loss: 0.2393 - val_accuracy: 0.9000\n",
            "Epoch 49/100\n",
            "10/10 [==============================] - 1s 65ms/step - loss: 0.2296 - accuracy: 0.8800 - val_loss: 0.2106 - val_accuracy: 0.9000\n",
            "Epoch 50/100\n",
            "10/10 [==============================] - 1s 64ms/step - loss: 0.1741 - accuracy: 0.9200 - val_loss: 0.2111 - val_accuracy: 0.9000\n",
            "Epoch 51/100\n",
            "10/10 [==============================] - 1s 62ms/step - loss: 0.1824 - accuracy: 0.9200 - val_loss: 0.3350 - val_accuracy: 0.8000\n",
            "Epoch 52/100\n",
            "10/10 [==============================] - 1s 71ms/step - loss: 0.1822 - accuracy: 0.9000 - val_loss: 0.1769 - val_accuracy: 0.9000\n",
            "Epoch 53/100\n",
            "10/10 [==============================] - 1s 69ms/step - loss: 0.1345 - accuracy: 0.9600 - val_loss: 0.2656 - val_accuracy: 0.9000\n",
            "Epoch 54/100\n",
            "10/10 [==============================] - 1s 71ms/step - loss: 0.1555 - accuracy: 0.9400 - val_loss: 0.3797 - val_accuracy: 0.8000\n",
            "Epoch 55/100\n",
            "10/10 [==============================] - 1s 68ms/step - loss: 0.1829 - accuracy: 0.9400 - val_loss: 0.0663 - val_accuracy: 1.0000\n",
            "Epoch 56/100\n",
            "10/10 [==============================] - 1s 66ms/step - loss: 0.1343 - accuracy: 0.9400 - val_loss: 0.1775 - val_accuracy: 1.0000\n",
            "Epoch 57/100\n",
            "10/10 [==============================] - 1s 70ms/step - loss: 0.1575 - accuracy: 0.9400 - val_loss: 0.1381 - val_accuracy: 0.9000\n",
            "Epoch 58/100\n",
            "10/10 [==============================] - 1s 64ms/step - loss: 0.2090 - accuracy: 0.9200 - val_loss: 0.2553 - val_accuracy: 0.8000\n",
            "Epoch 59/100\n",
            "10/10 [==============================] - 1s 62ms/step - loss: 0.1064 - accuracy: 0.9800 - val_loss: 0.3066 - val_accuracy: 0.8000\n",
            "Epoch 60/100\n",
            "10/10 [==============================] - 1s 71ms/step - loss: 0.1631 - accuracy: 0.9400 - val_loss: 0.3114 - val_accuracy: 0.9000\n",
            "Epoch 61/100\n",
            "10/10 [==============================] - 1s 70ms/step - loss: 0.1267 - accuracy: 0.9400 - val_loss: 0.4963 - val_accuracy: 0.8000\n",
            "Epoch 62/100\n",
            "10/10 [==============================] - 1s 60ms/step - loss: 0.0871 - accuracy: 0.9800 - val_loss: 0.5971 - val_accuracy: 0.8000\n",
            "Epoch 63/100\n",
            "10/10 [==============================] - 1s 64ms/step - loss: 0.1006 - accuracy: 0.9600 - val_loss: 0.4125 - val_accuracy: 0.8000\n",
            "Epoch 64/100\n",
            "10/10 [==============================] - 1s 67ms/step - loss: 0.0906 - accuracy: 0.9600 - val_loss: 0.2697 - val_accuracy: 0.9000\n",
            "Epoch 65/100\n",
            "10/10 [==============================] - 1s 64ms/step - loss: 0.1081 - accuracy: 0.9400 - val_loss: 0.2575 - val_accuracy: 0.9000\n",
            "Epoch 66/100\n",
            "10/10 [==============================] - 1s 70ms/step - loss: 0.0909 - accuracy: 0.9600 - val_loss: 0.0800 - val_accuracy: 0.9000\n",
            "Epoch 67/100\n",
            "10/10 [==============================] - 1s 69ms/step - loss: 0.1141 - accuracy: 0.9400 - val_loss: 0.2225 - val_accuracy: 0.8000\n",
            "Epoch 68/100\n",
            "10/10 [==============================] - 1s 64ms/step - loss: 0.1660 - accuracy: 0.9200 - val_loss: 0.2969 - val_accuracy: 0.8000\n",
            "Epoch 69/100\n",
            "10/10 [==============================] - 1s 64ms/step - loss: 0.1710 - accuracy: 0.9000 - val_loss: 0.4498 - val_accuracy: 0.9000\n",
            "Epoch 70/100\n",
            "10/10 [==============================] - 1s 70ms/step - loss: 0.1921 - accuracy: 0.9000 - val_loss: 0.2468 - val_accuracy: 0.9000\n",
            "Epoch 71/100\n",
            "10/10 [==============================] - 1s 62ms/step - loss: 0.0988 - accuracy: 1.0000 - val_loss: 0.2362 - val_accuracy: 0.9000\n",
            "Epoch 72/100\n",
            "10/10 [==============================] - 1s 67ms/step - loss: 0.1485 - accuracy: 0.9600 - val_loss: 0.3613 - val_accuracy: 0.8000\n",
            "Epoch 73/100\n",
            "10/10 [==============================] - 1s 68ms/step - loss: 0.1036 - accuracy: 0.9800 - val_loss: 0.2204 - val_accuracy: 0.9000\n",
            "Epoch 74/100\n",
            "10/10 [==============================] - 1s 68ms/step - loss: 0.1835 - accuracy: 0.9000 - val_loss: 0.7387 - val_accuracy: 0.8000\n",
            "Epoch 75/100\n",
            "10/10 [==============================] - 1s 68ms/step - loss: 0.1027 - accuracy: 0.9800 - val_loss: 0.2460 - val_accuracy: 0.9000\n",
            "Epoch 76/100\n",
            "10/10 [==============================] - 1s 81ms/step - loss: 0.0927 - accuracy: 0.9800 - val_loss: 0.4374 - val_accuracy: 0.9000\n",
            "Epoch 77/100\n",
            "10/10 [==============================] - 1s 70ms/step - loss: 0.0827 - accuracy: 0.9800 - val_loss: 0.3321 - val_accuracy: 0.8000\n",
            "Epoch 78/100\n",
            "10/10 [==============================] - 1s 65ms/step - loss: 0.0733 - accuracy: 0.9600 - val_loss: 0.1795 - val_accuracy: 0.9000\n",
            "Epoch 79/100\n",
            "10/10 [==============================] - 1s 62ms/step - loss: 0.0800 - accuracy: 0.9400 - val_loss: 0.5552 - val_accuracy: 0.7000\n",
            "Epoch 80/100\n",
            "10/10 [==============================] - 1s 69ms/step - loss: 0.0967 - accuracy: 0.9800 - val_loss: 0.1196 - val_accuracy: 1.0000\n",
            "Epoch 81/100\n",
            "10/10 [==============================] - 1s 61ms/step - loss: 0.0920 - accuracy: 0.9600 - val_loss: 0.1267 - val_accuracy: 1.0000\n",
            "Epoch 82/100\n",
            "10/10 [==============================] - 1s 63ms/step - loss: 0.0674 - accuracy: 0.9800 - val_loss: 0.6530 - val_accuracy: 0.8000\n",
            "Epoch 83/100\n",
            "10/10 [==============================] - 1s 64ms/step - loss: 0.1107 - accuracy: 0.9600 - val_loss: 0.4181 - val_accuracy: 0.9000\n",
            "Epoch 84/100\n",
            "10/10 [==============================] - 1s 65ms/step - loss: 0.0394 - accuracy: 1.0000 - val_loss: 0.0957 - val_accuracy: 1.0000\n",
            "Epoch 85/100\n",
            "10/10 [==============================] - 1s 65ms/step - loss: 0.0533 - accuracy: 1.0000 - val_loss: 0.3236 - val_accuracy: 0.9000\n",
            "Epoch 86/100\n",
            "10/10 [==============================] - 1s 71ms/step - loss: 0.0547 - accuracy: 0.9800 - val_loss: 0.4976 - val_accuracy: 0.9000\n",
            "Epoch 87/100\n",
            "10/10 [==============================] - 1s 66ms/step - loss: 0.0451 - accuracy: 1.0000 - val_loss: 0.2733 - val_accuracy: 0.9000\n",
            "Epoch 88/100\n",
            "10/10 [==============================] - 1s 68ms/step - loss: 0.0346 - accuracy: 1.0000 - val_loss: 0.3224 - val_accuracy: 0.9000\n",
            "Epoch 89/100\n",
            "10/10 [==============================] - 1s 69ms/step - loss: 0.0318 - accuracy: 1.0000 - val_loss: 0.2675 - val_accuracy: 0.9000\n",
            "Epoch 90/100\n",
            "10/10 [==============================] - 1s 68ms/step - loss: 0.0784 - accuracy: 0.9600 - val_loss: 0.4126 - val_accuracy: 0.8000\n",
            "Epoch 91/100\n",
            "10/10 [==============================] - 1s 67ms/step - loss: 0.0341 - accuracy: 1.0000 - val_loss: 0.4722 - val_accuracy: 0.8000\n",
            "Epoch 92/100\n",
            "10/10 [==============================] - 1s 66ms/step - loss: 0.0429 - accuracy: 0.9800 - val_loss: 0.4167 - val_accuracy: 0.8000\n",
            "Epoch 93/100\n",
            "10/10 [==============================] - 1s 68ms/step - loss: 0.0669 - accuracy: 0.9800 - val_loss: 0.5205 - val_accuracy: 0.8000\n",
            "Epoch 94/100\n",
            "10/10 [==============================] - 1s 63ms/step - loss: 0.0834 - accuracy: 1.0000 - val_loss: 0.8573 - val_accuracy: 0.8000\n",
            "Epoch 95/100\n",
            "10/10 [==============================] - 1s 72ms/step - loss: 0.0456 - accuracy: 0.9800 - val_loss: 0.5123 - val_accuracy: 0.8000\n",
            "Epoch 96/100\n",
            "10/10 [==============================] - 1s 67ms/step - loss: 0.1068 - accuracy: 0.9600 - val_loss: 0.1583 - val_accuracy: 0.9000\n",
            "Epoch 97/100\n",
            "10/10 [==============================] - 1s 64ms/step - loss: 0.0565 - accuracy: 0.9800 - val_loss: 0.6780 - val_accuracy: 0.7000\n",
            "Epoch 98/100\n",
            "10/10 [==============================] - 1s 60ms/step - loss: 0.0438 - accuracy: 0.9800 - val_loss: 0.3344 - val_accuracy: 0.8000\n",
            "Epoch 99/100\n",
            "10/10 [==============================] - 1s 64ms/step - loss: 0.0751 - accuracy: 0.9800 - val_loss: 0.1314 - val_accuracy: 0.9000\n",
            "Epoch 100/100\n",
            "10/10 [==============================] - 1s 64ms/step - loss: 0.0406 - accuracy: 0.9800 - val_loss: 0.3499 - val_accuracy: 0.8000\n"
          ]
        },
        {
          "data": {
            "text/plain": [
              "<keras.callbacks.History at 0x1c22e3c9090>"
            ]
          },
          "execution_count": 41,
          "metadata": {},
          "output_type": "execute_result"
        }
      ],
      "source": [
        "# image augmentation technique to enrich our dataset(training set) without adding more images so get good performance  results with little or no overfitting even with the small amount of images\n",
        "# used from keras documentation (flow_from_directory method)\n",
        "\n",
        "from keras.preprocessing.image import ImageDataGenerator\n",
        "batch_size = 5\n",
        "# image augmentation part\n",
        "train_datagen = ImageDataGenerator(rescale = 1./255,\n",
        "                                   shear_range = 0.2,\n",
        "                                   zoom_range = 0.2,\n",
        "                                   horizontal_flip = True)\n",
        "\n",
        "test_datagen = ImageDataGenerator(rescale = 1./255)\n",
        "\n",
        "# create training set\n",
        "# wanna get higher accuracy -> inccrease target_size\n",
        "training_set = train_datagen.flow_from_directory('C:\\\\Users\\VA\\Documents\\workspace\\cnn_100k_10k\\dataset\\Train',\n",
        "                                                 target_size = input_size,\n",
        "                                                 batch_size = batch_size,\n",
        "                                                 class_mode = 'binary')\n",
        "\n",
        "# create test set\n",
        "# wanna get higher accuracy -> inccrease target_size\n",
        "test_set = test_datagen.flow_from_directory('C:\\\\Users\\VA\\Documents\\workspace\\cnn_100k_10k\\dataset\\Test',\n",
        "                                            target_size = input_size,\n",
        "                                            batch_size = batch_size,\n",
        "                                            class_mode = 'binary')\n",
        "\n",
        "# fit the cnn model to the trainig set and testing it on the test set\n",
        "model.fit(training_set,\n",
        "          steps_per_epoch = 50/batch_size,\n",
        "          epochs = 100,\n",
        "          validation_data = test_set,\n",
        "          validation_steps = 10/batch_size)"
      ]
    },
    {
      "attachments": {},
      "cell_type": "markdown",
      "metadata": {
        "colab_type": "text",
        "id": "FablVLKI1ujz"
      },
      "source": [
        "## STEP 10: MAKING NEW *PREDICTIONS*"
      ]
    },
    {
      "cell_type": "code",
      "execution_count": 42,
      "metadata": {
        "colab": {},
        "colab_type": "code",
        "id": "zkpQ9_Bbdgug"
      },
      "outputs": [],
      "source": [
        "import numpy as np\n",
        "import keras.utils as image"
      ]
    },
    {
      "cell_type": "code",
      "execution_count": 48,
      "metadata": {
        "colab": {},
        "colab_type": "code",
        "id": "OARxcBiKqhaP"
      },
      "outputs": [
        {
          "name": "stdout",
          "output_type": "stream",
          "text": [
            "1/1 [==============================] - 0s 29ms/step\n"
          ]
        }
      ],
      "source": [
        "test_image = image.load_img('C:\\\\Users\\VA\\Documents\\workspace\\cnn_100k_10k\\dataset\\Predict\\pred_3.jpeg', target_size= input_size)\n",
        "test_image = image.img_to_array(test_image)\n",
        "test_image = np.expand_dims(test_image, axis = 0)\n",
        "result = model.predict(test_image)"
      ]
    },
    {
      "cell_type": "code",
      "execution_count": 49,
      "metadata": {
        "colab": {
          "base_uri": "https://localhost:8080/",
          "height": 35
        },
        "colab_type": "code",
        "id": "yephYECUq3BH",
        "outputId": "aa6219cf-0719-4857-c100-becf44791bec"
      },
      "outputs": [
        {
          "data": {
            "text/plain": [
              "{'sepuluh': 0, 'seratus': 1}"
            ]
          },
          "execution_count": 49,
          "metadata": {},
          "output_type": "execute_result"
        }
      ],
      "source": [
        "training_set.class_indices"
      ]
    },
    {
      "cell_type": "code",
      "execution_count": 50,
      "metadata": {},
      "outputs": [
        {
          "data": {
            "text/plain": [
              "0.0"
            ]
          },
          "execution_count": 50,
          "metadata": {},
          "output_type": "execute_result"
        }
      ],
      "source": [
        "result[0][0]"
      ]
    },
    {
      "cell_type": "code",
      "execution_count": 51,
      "metadata": {
        "colab": {},
        "colab_type": "code",
        "id": "KwfR3qnDr2D2"
      },
      "outputs": [],
      "source": [
        "if result [0][0] == 1:\n",
        "  prediction = 'seratus'\n",
        "else:\n",
        "  prediction = 'sepuluh'"
      ]
    },
    {
      "cell_type": "code",
      "execution_count": 52,
      "metadata": {
        "colab": {
          "base_uri": "https://localhost:8080/",
          "height": 35
        },
        "colab_type": "code",
        "id": "T-LuaKWdsKIn",
        "outputId": "a91c3848-85c5-4f31-b968-5ec070d6d1fa"
      },
      "outputs": [
        {
          "data": {
            "text/plain": [
              "'sepuluh'"
            ]
          },
          "execution_count": 52,
          "metadata": {},
          "output_type": "execute_result"
        }
      ],
      "source": [
        "prediction"
      ]
    },
    {
      "attachments": {},
      "cell_type": "markdown",
      "metadata": {
        "colab_type": "text",
        "id": "NNTVV8xoVuMN"
      },
      "source": [
        "### correct prediction made :)"
      ]
    },
    {
      "attachments": {},
      "cell_type": "markdown",
      "metadata": {
        "colab_type": "text",
        "id": "KpVRkKU1Mo1d"
      },
      "source": [
        "#### The model shows the accuracy of 79.34 percent for the training set and 79.55 for the validation set. Can be improved with further parameter tuning if needed. ex. increasing the epochs, adding more convolution layer, changing input size of image, etc."
      ]
    }
  ],
  "metadata": {
    "accelerator": "GPU",
    "colab": {
      "authorship_tag": "ABX9TyMH4CbnVnrPqPPnZWyDXl/2",
      "collapsed_sections": [],
      "include_colab_link": true,
      "name": "cnn_for_image_classification.ipynb",
      "provenance": []
    },
    "kernelspec": {
      "display_name": "Python 3",
      "name": "python3"
    },
    "language_info": {
      "codemirror_mode": {
        "name": "ipython",
        "version": 3
      },
      "file_extension": ".py",
      "mimetype": "text/x-python",
      "name": "python",
      "nbconvert_exporter": "python",
      "pygments_lexer": "ipython3",
      "version": "3.11.3"
    }
  },
  "nbformat": 4,
  "nbformat_minor": 0
}
